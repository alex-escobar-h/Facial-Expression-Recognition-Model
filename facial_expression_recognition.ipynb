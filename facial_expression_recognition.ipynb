{
  "cells": [
    {
      "cell_type": "markdown",
      "id": "97ac6de0",
      "metadata": {
        "id": "97ac6de0"
      },
      "source": [
        "# Facial Expression Recognition"
      ]
    },
    {
      "cell_type": "markdown",
      "source": [
        "## Install FER-2013 Dataset from Kaggle"
      ],
      "metadata": {
        "id": "-sy9vkIT5u3O"
      },
      "id": "-sy9vkIT5u3O"
    },
    {
      "cell_type": "code",
      "execution_count": 4,
      "id": "9503c90b",
      "metadata": {
        "id": "9503c90b",
        "outputId": "a062524b-2d9b-4797-e2b4-6068ce669ad8",
        "colab": {
          "base_uri": "https://localhost:8080/"
        }
      },
      "outputs": [
        {
          "output_type": "stream",
          "name": "stdout",
          "text": [
            "Dataset URL: https://www.kaggle.com/datasets/msambare/fer2013\n",
            "License(s): DbCL-1.0\n",
            "Downloading fer2013.zip to /content\n",
            "  0% 0.00/60.3M [00:00<?, ?B/s]\n",
            "100% 60.3M/60.3M [00:00<00:00, 1.20GB/s]\n"
          ]
        }
      ],
      "source": [
        "from google.colab import userdata\n",
        "import os\n",
        "\n",
        "os.environ[\"KAGGLE_KEY\"] = userdata.get('KAGGLE_KEY')\n",
        "os.environ[\"KAGGLE_USERNAME\"] = userdata.get('KAGGLE_USERNAME')\n",
        "!pip install -q kaggle\n",
        "!kaggle datasets download -d msambare/fer2013\n",
        "!unzip -q fer2013.zip"
      ]
    }
  ],
  "metadata": {
    "kernelspec": {
      "display_name": "fer",
      "language": "python",
      "name": "python3"
    },
    "language_info": {
      "name": "python",
      "version": "3.10.18"
    },
    "colab": {
      "provenance": []
    }
  },
  "nbformat": 4,
  "nbformat_minor": 5
}