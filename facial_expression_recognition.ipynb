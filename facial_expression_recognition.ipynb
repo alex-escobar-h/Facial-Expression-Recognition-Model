{
 "cells": [
  {
   "cell_type": "markdown",
   "id": "97ac6de0",
   "metadata": {},
   "source": [
    "# Facial Expression Recognition "
   ]
  },
  {
   "cell_type": "code",
   "execution_count": null,
   "id": "9503c90b",
   "metadata": {},
   "outputs": [],
   "source": [
    "from google.colab import userdata\n",
    "import os\n",
    "\n",
    "os.environ[\"KAGGLE_KEY\"] = userdata.get('KAGGLE_KEY')\n",
    "os.environ[\"KAGGLE_USERNAME\"] = userdata.get('KAGGLE_USERNAME')"
   ]
  }
 ],
 "metadata": {
  "kernelspec": {
   "display_name": "fer",
   "language": "python",
   "name": "python3"
  },
  "language_info": {
   "name": "python",
   "version": "3.10.18"
  }
 },
 "nbformat": 4,
 "nbformat_minor": 5
}
